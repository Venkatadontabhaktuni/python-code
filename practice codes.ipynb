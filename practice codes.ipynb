{
  "cells": [
    {
      "cell_type": "markdown",
      "source": [
        "** Addition , Subtraction, multiplication and division **"
      ],
      "metadata": {
        "id": "tWID84w7y0TM"
      }
    },
    {
      "cell_type": "code",
      "source": [
        "def add(x, y):\n",
        "    return x + y\n",
        "\n",
        "def subtract(x, y):\n",
        "    return x - y\n",
        "\n",
        "def multiply(x, y):\n",
        "    return x * y\n",
        "\n",
        "def divide(x, y):\n",
        "    return x / y\n",
        "\n",
        "num1 = float(input(\"Enter first number: \"))\n",
        "num2 = float(input(\"Enter second number: \"))\n",
        "\n",
        "print(\"Select operation: 1.Add 2.Subtract 3.Multiply 4.Divide\")\n",
        "choice = input(\"Enter choice (1/2/3/4): \")\n",
        "\n",
        "if choice == '1':\n",
        "    print(\"Result:\", add(num1, num2))\n",
        "elif choice == '2':\n",
        "    print(\"Result:\", subtract(num1, num2))\n",
        "elif choice == '3':\n",
        "    print(\"Result:\", multiply(num1, num2))\n",
        "elif choice == '4':\n",
        "    print(\"Result:\", divide(num1, num2))\n",
        "else:\n",
        "    print(\"Invalid input\")\n"
      ],
      "metadata": {
        "colab": {
          "base_uri": "https://localhost:8080/"
        },
        "id": "yvUiLap-ysyO",
        "outputId": "92abd78f-c522-4b00-fdec-76767fc674b8"
      },
      "execution_count": 2,
      "outputs": [
        {
          "output_type": "stream",
          "name": "stdout",
          "text": [
            "Enter first number: 5\n",
            "Enter second number: 9\n",
            "Select operation: 1.Add 2.Subtract 3.Multiply 4.Divide\n",
            "Enter choice (1/2/3/4): 2\n",
            "Result: -4.0\n"
          ]
        }
      ]
    },
    {
      "cell_type": "markdown",
      "source": [
        "** checking even or odd number **"
      ],
      "metadata": {
        "id": "8vdH-b9KzotL"
      }
    },
    {
      "cell_type": "code",
      "source": [
        "number = int(input(\"Enter a number: \"))\n",
        "if number % 2 == 0:\n",
        "    print(f\"{number} is Even\")\n",
        "else:\n",
        "    print(f\"{number} is Odd\")"
      ],
      "metadata": {
        "colab": {
          "base_uri": "https://localhost:8080/"
        },
        "id": "QP-fvinaytur",
        "outputId": "7d48f319-ffe1-402a-f08b-d34a6368f141"
      },
      "execution_count": 4,
      "outputs": [
        {
          "output_type": "stream",
          "name": "stdout",
          "text": [
            "Enter a number: 12\n",
            "12 is Even\n"
          ]
        }
      ]
    },
    {
      "cell_type": "markdown",
      "source": [
        "** Finding the largest number ***"
      ],
      "metadata": {
        "id": "R4bsAxZ_z9rv"
      }
    },
    {
      "cell_type": "code",
      "source": [
        "num1 = float(input(\"Enter first number: \"))\n",
        "num2 = float(input(\"Enter second number: \"))\n",
        "num3 = float(input(\"Enter third number: \"))\n",
        "\n",
        "if (num1 > num2) and (num1 > num3):\n",
        "    largest = num1\n",
        "elif (num2 > num1) and (num2 > num3):\n",
        "    largest = num2\n",
        "else:\n",
        "    largest = num3\n",
        "\n",
        "print(f\"The largest number is {largest}\")"
      ],
      "metadata": {
        "colab": {
          "base_uri": "https://localhost:8080/"
        },
        "id": "f3pXFo85ytsC",
        "outputId": "a2715bcc-0285-4eb4-d897-5f0e4445ae9e"
      },
      "execution_count": 5,
      "outputs": [
        {
          "output_type": "stream",
          "name": "stdout",
          "text": [
            "Enter first number: 12\n",
            "Enter second number: 0\n",
            "Enter third number: 3\n",
            "The largest number is 12.0\n"
          ]
        }
      ]
    },
    {
      "cell_type": "markdown",
      "source": [
        "check if a number is positive, negative, or zero."
      ],
      "metadata": {
        "id": "rxqO3qjz1W65"
      }
    },
    {
      "cell_type": "code",
      "source": [
        "number = float(input(\"Enter a number: \"))\n",
        "if number > 0:\n",
        "    print(\"The number is positive.\")\n",
        "elif number < 0:\n",
        "    print(\"The number is negative.\")\n",
        "else:\n",
        "    print(\"The number is zero.\")"
      ],
      "metadata": {
        "colab": {
          "base_uri": "https://localhost:8080/"
        },
        "id": "Ji3fgJwbytpc",
        "outputId": "34f35fcc-28f8-4fd5-bfd5-fb2582f71f9a"
      },
      "execution_count": 6,
      "outputs": [
        {
          "output_type": "stream",
          "name": "stdout",
          "text": [
            "Enter a number: -8\n",
            "The number is negative.\n"
          ]
        }
      ]
    },
    {
      "cell_type": "markdown",
      "source": [
        "calculate the factorial of a number"
      ],
      "metadata": {
        "id": "kZDt3u_e1sxc"
      }
    },
    {
      "cell_type": "code",
      "source": [
        "def factorial(n):\n",
        "    if n == 0:\n",
        "        return 1\n",
        "    else:\n",
        "        return n * factorial(n-1)\n",
        "\n",
        "num = int(input(\"Enter a number: \"))\n",
        "print(f\"The factorial of {num} is {factorial(num)}\")"
      ],
      "metadata": {
        "colab": {
          "base_uri": "https://localhost:8080/"
        },
        "id": "isf_lAsOytmC",
        "outputId": "e193694e-bc5d-48c3-c547-075cab0bdf0c"
      },
      "execution_count": 8,
      "outputs": [
        {
          "output_type": "stream",
          "name": "stdout",
          "text": [
            "Enter a number: 2\n",
            "The factorial of 2 is 2\n"
          ]
        }
      ]
    },
    {
      "cell_type": "markdown",
      "source": [
        "loops"
      ],
      "metadata": {
        "id": "700h_wPg2AT1"
      }
    },
    {
      "cell_type": "code",
      "source": [
        "lower = int(input(\"Enter lower range: \"))\n",
        "upper = int(input(\"Enter upper range: \"))\n",
        "\n",
        "for num in range(lower, upper + 1):\n",
        "    if num > 1:\n",
        "        for i in range(2, num):\n",
        "            if (num % i) == 0:\n",
        "                break\n",
        "        else:\n",
        "            print(num)"
      ],
      "metadata": {
        "colab": {
          "base_uri": "https://localhost:8080/"
        },
        "id": "cKc52QXB2KRG",
        "outputId": "ab87ab0f-239c-4e50-96c4-eec9d5cd2651"
      },
      "execution_count": 10,
      "outputs": [
        {
          "output_type": "stream",
          "name": "stdout",
          "text": [
            "Enter lower range: 15\n",
            "Enter upper range: 98\n",
            "17\n",
            "19\n",
            "23\n",
            "29\n",
            "31\n",
            "37\n",
            "41\n",
            "43\n",
            "47\n",
            "53\n",
            "59\n",
            "61\n",
            "67\n",
            "71\n",
            "73\n",
            "79\n",
            "83\n",
            "89\n",
            "97\n"
          ]
        }
      ]
    },
    {
      "cell_type": "markdown",
      "source": [
        "printing different type of patterns"
      ],
      "metadata": {
        "id": "bKaGeq0v2h5W"
      }
    },
    {
      "cell_type": "code",
      "source": [
        "## Right-Angled Triangle Pattern ##\n",
        "n = 5\n",
        "for i in range(1, n + 1):\n",
        "    print('*' * i)"
      ],
      "metadata": {
        "colab": {
          "base_uri": "https://localhost:8080/"
        },
        "id": "SFo4sLr-2Kw2",
        "outputId": "9336a19b-40ab-45dc-f528-e01a79fff0d9"
      },
      "execution_count": 11,
      "outputs": [
        {
          "output_type": "stream",
          "name": "stdout",
          "text": [
            "*\n",
            "**\n",
            "***\n",
            "****\n",
            "*****\n"
          ]
        }
      ]
    },
    {
      "cell_type": "code",
      "source": [
        "## Inverted Triangle Pattern ##\n",
        "n = 5\n",
        "for i in range(n, 0, -1):\n",
        "    print('*' * i)\n",
        ""
      ],
      "metadata": {
        "colab": {
          "base_uri": "https://localhost:8080/"
        },
        "id": "wXs6Ifbr2KtP",
        "outputId": "f49502ce-067f-4918-da57-7d515bb0e929"
      },
      "execution_count": 12,
      "outputs": [
        {
          "output_type": "stream",
          "name": "stdout",
          "text": [
            "*****\n",
            "****\n",
            "***\n",
            "**\n",
            "*\n"
          ]
        }
      ]
    },
    {
      "cell_type": "code",
      "source": [
        "##Pyramid Pattern##\n",
        "n = 5\n",
        "for i in range(n):\n",
        "    print(' ' * (n - i - 1) + '*' * (2 * i + 1))"
      ],
      "metadata": {
        "colab": {
          "base_uri": "https://localhost:8080/"
        },
        "id": "w_Vow1M42Kqy",
        "outputId": "714af242-81ef-4694-a0f0-0a5c5106e62c"
      },
      "execution_count": 13,
      "outputs": [
        {
          "output_type": "stream",
          "name": "stdout",
          "text": [
            "    *\n",
            "   ***\n",
            "  *****\n",
            " *******\n",
            "*********\n"
          ]
        }
      ]
    },
    {
      "cell_type": "code",
      "source": [
        "## Diamond Pattern ##\n",
        "n = 5\n",
        "# Upper path\n",
        "for i in range(n):\n",
        "    print(' ' * (n - i - 1) + '*' * (2 * i + 1))\n",
        "# Lower part\n",
        "for i in range(n - 2, -1, -1):\n",
        "    print(' ' * (n - i - 1) + '*' * (2 * i + 1))"
      ],
      "metadata": {
        "colab": {
          "base_uri": "https://localhost:8080/"
        },
        "id": "98dltVj52KnT",
        "outputId": "e570f462-59a3-41c3-c285-1e272ecd0bb0"
      },
      "execution_count": 14,
      "outputs": [
        {
          "output_type": "stream",
          "name": "stdout",
          "text": [
            "    *\n",
            "   ***\n",
            "  *****\n",
            " *******\n",
            "*********\n",
            " *******\n",
            "  *****\n",
            "   ***\n",
            "    *\n"
          ]
        }
      ]
    },
    {
      "cell_type": "code",
      "source": [],
      "metadata": {
        "id": "DwK0LTGg2KkM"
      },
      "execution_count": null,
      "outputs": []
    },
    {
      "cell_type": "code",
      "execution_count": null,
      "metadata": {
        "colab": {
          "base_uri": "https://localhost:8080/"
        },
        "id": "JCyQFmOEUEjR",
        "outputId": "4e472d50-9bad-42d0-b4eb-ecaea797a190"
      },
      "outputs": [
        {
          "name": "stdout",
          "output_type": "stream",
          "text": [
            "5\n",
            "11111\n",
            "11111\n",
            "11111\n",
            "11111\n",
            "11111\n"
          ]
        }
      ],
      "source": [
        "x=int(input())\n",
        "for i in range(x):\n",
        "  print(\"1\"*x)"
      ]
    },
    {
      "cell_type": "code",
      "execution_count": null,
      "metadata": {
        "colab": {
          "background_save": true,
          "base_uri": "https://localhost:8080/"
        },
        "id": "wbYMZAW2tcJr",
        "outputId": "4963983b-14a5-41de-990e-e90f8a7bf0a8"
      },
      "outputs": [
        {
          "name": "stdout",
          "output_type": "stream",
          "text": [
            "12345\n",
            "12345\n",
            "12345\n",
            "12345\n",
            "12345\n",
            "\n"
          ]
        }
      ],
      "source": [
        "'''12345\n",
        "12345\n",
        "12345\n",
        "12345\n",
        "12345'''\n",
        "print(\"12345\\n\"*5)\n",
        "\n"
      ]
    },
    {
      "cell_type": "code",
      "execution_count": null,
      "metadata": {
        "colab": {
          "base_uri": "https://localhost:8080/"
        },
        "id": "ChkWsYKHVjbj",
        "outputId": "d90ff748-4130-40b5-8ed3-4c036bb8c0f4"
      },
      "outputs": [
        {
          "name": "stdout",
          "output_type": "stream",
          "text": [
            "5\n",
            "0 3 8 15 24 "
          ]
        }
      ],
      "source": [
        "x=int(input())\n",
        "for i in range(1,x+1):\n",
        "  print((i*i)-1,end=\" \")\n"
      ]
    },
    {
      "cell_type": "code",
      "execution_count": null,
      "metadata": {
        "colab": {
          "base_uri": "https://localhost:8080/"
        },
        "id": "YxuwNPu_wFPa",
        "outputId": "583e49b5-7a40-42f4-8ae3-8ccea7fb0b6a"
      },
      "outputs": [
        {
          "name": "stdout",
          "output_type": "stream",
          "text": [
            "7\n",
            "7 5 8 6 9 7 10 "
          ]
        }
      ],
      "source": [
        "x=int(input())\n",
        "p=x\n",
        "print(x,end=\" \")\n",
        "for i in range(x-1):\n",
        "  if i%2==0:\n",
        "    p-=2\n",
        "    print(p,end=\" \")\n",
        "  else:\n",
        "      p+=3\n",
        "      print(p,end=\" \")\n",
        "\n"
      ]
    },
    {
      "cell_type": "code",
      "execution_count": null,
      "metadata": {
        "colab": {
          "base_uri": "https://localhost:8080/"
        },
        "id": "MHXtWQTNwLXR",
        "outputId": "e28e41f9-e96a-4bf3-a5b1-fb77698da9f2"
      },
      "outputs": [
        {
          "name": "stdout",
          "output_type": "stream",
          "text": [
            "5\n",
            "1 \n",
            "2 6 \n",
            "3 7 10 \n",
            "4 8 11 13 \n",
            "5 9 12 14 15 \n"
          ]
        }
      ],
      "source": [
        "x=int(input())\n",
        "for i in range(1,x+1):\n",
        "  s,p=x-1,i\n",
        "  print(p,end=\" \")\n",
        "  for j in range(1,i):\n",
        "    p=p+s\n",
        "    s-=1\n",
        "    print(p,end=\" \")\n",
        "  print()\n"
      ]
    },
    {
      "cell_type": "code",
      "execution_count": null,
      "metadata": {
        "id": "kGyBgrdO8o0x"
      },
      "outputs": [],
      "source": [
        "x=int(input())\n",
        "1=[]\n",
        "p=0\n",
        "for i int"
      ]
    },
    {
      "cell_type": "code",
      "execution_count": null,
      "metadata": {
        "colab": {
          "base_uri": "https://localhost:8080/"
        },
        "id": "OEgTlhoPB0m5",
        "outputId": "22d5666f-bc7f-41ef-b505-364e73129922"
      },
      "outputs": [
        {
          "name": "stdout",
          "output_type": "stream",
          "text": [
            "6\n",
            "0 1 1 2 3 5 "
          ]
        }
      ],
      "source": [
        "x=int(input())\n",
        "print(0,1,end=\" \")\n",
        "a,b=0,1\n",
        "for i in range(2,x):\n",
        "  c=a+b\n",
        "  a=b\n",
        "  b=c\n",
        "  print(c,end=\" \")"
      ]
    },
    {
      "cell_type": "code",
      "execution_count": null,
      "metadata": {
        "colab": {
          "base_uri": "https://localhost:8080/"
        },
        "id": "RQK1ihuJWpj4",
        "outputId": "1bb7eaee-9a52-4714-fec3-9be187c8f44c"
      },
      "outputs": [
        {
          "name": "stdout",
          "output_type": "stream",
          "text": [
            "5\n",
            "11111\n",
            "22222\n",
            "33333\n",
            "44444\n",
            "55555\n"
          ]
        }
      ],
      "source": [
        "x=int(input())\n",
        "for i in range(1,x+1):\n",
        "  print(f\"{i}\"*x)\n"
      ]
    },
    {
      "cell_type": "code",
      "execution_count": null,
      "metadata": {
        "id": "_UOO8tskZcck",
        "colab": {
          "base_uri": "https://localhost:8080/"
        },
        "outputId": "99ed3a8d-4350-4799-8df4-a54ab0d595a2"
      },
      "outputs": [
        {
          "output_type": "stream",
          "name": "stdout",
          "text": [
            "5\n",
            "55555\n",
            "5   5\n",
            "5   5\n",
            "5   5\n",
            "55555\n"
          ]
        }
      ],
      "source": [
        "x=int(input())\n",
        "for i  in range(x):\n",
        "  for j in range(x):\n",
        "    if (i==0 or i==(x-1)):\n",
        "      print(\"5\",end=\"\")\n",
        "    elif (j==0 or j==(x-1)):\n",
        "      print(\"5\",end=\"\")\n",
        "    else:\n",
        "      print(\" \",end=\"\")\n",
        "  print()"
      ]
    },
    {
      "cell_type": "code",
      "source": [
        "x=int(input())\n",
        "for i in range(1,x+1):\n",
        "  temp=i\n",
        "  while(temp>0):\n",
        "    print(temp,end=\" \")\n",
        "    temp-=1\n",
        "  print()"
      ],
      "metadata": {
        "colab": {
          "base_uri": "https://localhost:8080/"
        },
        "id": "lXMulxJNhmKJ",
        "outputId": "8bd21892-8291-4d69-909d-1f7da3737763"
      },
      "execution_count": null,
      "outputs": [
        {
          "output_type": "stream",
          "name": "stdout",
          "text": [
            "5\n",
            "1 \n",
            "2 1 \n",
            "3 2 1 \n",
            "4 3 2 1 \n",
            "5 4 3 2 1 \n"
          ]
        }
      ]
    },
    {
      "cell_type": "code",
      "source": [
        "x=int(input())\n",
        "for i in range(x):\n",
        "  char=65\n",
        "  for j in range(i,x):\n",
        "    print(chr(char+j),end=\"\")\n",
        "  print()"
      ],
      "metadata": {
        "colab": {
          "base_uri": "https://localhost:8080/"
        },
        "id": "5gPVeIwoki58",
        "outputId": "2b8a72d8-8857-4ead-9363-38682fe51d70"
      },
      "execution_count": null,
      "outputs": [
        {
          "output_type": "stream",
          "name": "stdout",
          "text": [
            "5\n",
            "ABCDE\n",
            "BCDE\n",
            "CDE\n",
            "DE\n",
            "E\n"
          ]
        }
      ]
    },
    {
      "cell_type": "code",
      "source": [
        "# prompt: print star as a levels\n",
        "\n",
        "x=int(input())\n",
        "for i in range(x):\n",
        "  for j in range(x-i):\n",
        "    print(\"*\",end=\"\")\n",
        "  print()\n"
      ],
      "metadata": {
        "colab": {
          "base_uri": "https://localhost:8080/"
        },
        "id": "M-5ysFU7mVTH",
        "outputId": "7c0334c7-8522-4192-e416-295522a1f300"
      },
      "execution_count": null,
      "outputs": [
        {
          "output_type": "stream",
          "name": "stdout",
          "text": [
            "5\n",
            "*****\n",
            "****\n",
            "***\n",
            "**\n",
            "*\n"
          ]
        }
      ]
    },
    {
      "cell_type": "code",
      "source": [
        "n=int(input())\n",
        "k=0\n",
        "l= [[k:=k+1 for j in range(n)] for i in range(n)]\n",
        "for i in range(n):\n",
        "  if i%2==0:\n",
        "    print(l[i])\n",
        "  else:\n",
        "    print(l[i][::-1])"
      ],
      "metadata": {
        "colab": {
          "base_uri": "https://localhost:8080/"
        },
        "id": "kFLiM47Bpfn2",
        "outputId": "c454d2b5-0551-414a-8e06-98a16eb8a787"
      },
      "execution_count": null,
      "outputs": [
        {
          "output_type": "stream",
          "name": "stdout",
          "text": [
            "5\n",
            "[1, 2, 3, 4, 5]\n",
            "[10, 9, 8, 7, 6]\n",
            "[11, 12, 13, 14, 15]\n",
            "[20, 19, 18, 17, 16]\n",
            "[21, 22, 23, 24, 25]\n"
          ]
        }
      ]
    },
    {
      "cell_type": "code",
      "source": [
        "x=int(input())\n",
        "for i in range(0,x):\n",
        "  for j in range(0,x):\n",
        "    if i==j:\n",
        "      print(i+1,end=' ')\n",
        "    elif j+i==x-1:\n",
        "      print(j+1,end=' ')\n",
        "    else :\n",
        "      print( ' ',end=' ')\n",
        "  print()"
      ],
      "metadata": {
        "colab": {
          "base_uri": "https://localhost:8080/"
        },
        "id": "viw_ZAjLzvG2",
        "outputId": "6deea638-9582-45d0-cc9f-23fd447e4bff"
      },
      "execution_count": null,
      "outputs": [
        {
          "output_type": "stream",
          "name": "stdout",
          "text": [
            "5\n",
            "1       5 \n",
            "  2   4   \n",
            "    3     \n",
            "  2   4   \n",
            "1       5 \n"
          ]
        }
      ]
    },
    {
      "cell_type": "markdown",
      "source": [
        "Create variables of different data types: integer, float, string, and boolean. Print their values and types"
      ],
      "metadata": {
        "id": "TIzknpm935ZB"
      }
    },
    {
      "cell_type": "code",
      "source": [
        "integer_var = 10\n",
        "float_var = 10.5\n",
        "string_var = \"Hello\"\n",
        "boolean_var = True\n",
        "\n",
        "print(f\"Integer value: {integer_var}, type: {type(integer_var)}\")\n",
        "print(f\"Float value: {float_var}, type: {type(float_var)}\")\n",
        "print(f\"String value: {string_var}, type: {type(string_var)}\")\n",
        "print(f\"Boolean value: {boolean_var}, type: {type(boolean_var)}\")"
      ],
      "metadata": {
        "colab": {
          "base_uri": "https://localhost:8080/"
        },
        "id": "m7rE0VAW33bi",
        "outputId": "ef6d3785-682b-400c-8621-8d545da65dbc"
      },
      "execution_count": 15,
      "outputs": [
        {
          "output_type": "stream",
          "name": "stdout",
          "text": [
            "Integer value: 10, type: <class 'int'>\n",
            "Float value: 10.5, type: <class 'float'>\n",
            "String value: Hello, type: <class 'str'>\n",
            "Boolean value: True, type: <class 'bool'>\n"
          ]
        }
      ]
    },
    {
      "cell_type": "code",
      "source": [
        "## swap the values of two variables ##\n",
        "a = 5\n",
        "b = 10\n",
        "print(f\"Before swap: a = {a}, b = {b}\")\n",
        "\n",
        "# Swapping\n",
        "a, b = b, a\n",
        "print(f\"After swap: a = {a}, b = {b}\")"
      ],
      "metadata": {
        "colab": {
          "base_uri": "https://localhost:8080/"
        },
        "id": "B_tZzA1u33YK",
        "outputId": "a7daab6c-d650-4b51-df24-52aed306fd03"
      },
      "execution_count": 16,
      "outputs": [
        {
          "output_type": "stream",
          "name": "stdout",
          "text": [
            "Before swap: a = 5, b = 10\n",
            "After swap: a = 10, b = 5\n"
          ]
        }
      ]
    },
    {
      "cell_type": "code",
      "source": [
        "## concatenate two strings ##\n",
        "string1 = \"Hello\"\n",
        "string2 = \"World\"\n",
        "concatenated_string = string1 + \" \" + string2\n",
        "print(concatenated_string)"
      ],
      "metadata": {
        "colab": {
          "base_uri": "https://localhost:8080/"
        },
        "id": "inRyfjSm33WI",
        "outputId": "15e51a60-f093-4ea4-da6d-fd603b2478f6"
      },
      "execution_count": 17,
      "outputs": [
        {
          "output_type": "stream",
          "name": "stdout",
          "text": [
            "Hello World\n"
          ]
        }
      ]
    },
    {
      "cell_type": "code",
      "source": [
        "string1 = \"ravi\"\n",
        "string2 = \"kiran\"\n",
        "result = \" \".join([string1, string2])\n",
        "print(result)"
      ],
      "metadata": {
        "colab": {
          "base_uri": "https://localhost:8080/"
        },
        "id": "boCuiuH54eBz",
        "outputId": "22ac44a0-8517-41ed-9dba-04f83ea4ac34"
      },
      "execution_count": 19,
      "outputs": [
        {
          "output_type": "stream",
          "name": "stdout",
          "text": [
            "ravi kiran\n"
          ]
        }
      ]
    },
    {
      "cell_type": "code",
      "source": [
        "## palindrome ##\n",
        "string = input(\"Enter a string: \")\n",
        "if string == string[::-1]:\n",
        "    print(f\"{string} is a palindrome.\")\n",
        "else:\n",
        "    print(f\"{string} is not a palindrome.\")"
      ],
      "metadata": {
        "colab": {
          "base_uri": "https://localhost:8080/"
        },
        "id": "YWoZ0mbp33To",
        "outputId": "a61cd931-c6fb-4a7c-f23d-767ec0580e8f"
      },
      "execution_count": 21,
      "outputs": [
        {
          "output_type": "stream",
          "name": "stdout",
          "text": [
            "Enter a string: refer\n",
            "refer is a palindrome.\n"
          ]
        }
      ]
    },
    {
      "cell_type": "code",
      "source": [
        "string = input(\"Enter a string: \")\n",
        "if string == string[::-1]:\n",
        "    print(f\"{string} is a palindrome.\")\n",
        "else:\n",
        "    print(f\"{string} is not a palindrome.\")"
      ],
      "metadata": {
        "colab": {
          "base_uri": "https://localhost:8080/"
        },
        "id": "0ThvNdIS33Q8",
        "outputId": "e9a0c015-c952-438f-c9cb-b696cc1c67be"
      },
      "execution_count": 22,
      "outputs": [
        {
          "output_type": "stream",
          "name": "stdout",
          "text": [
            "Enter a string: tap\n",
            "tap is not a palindrome.\n"
          ]
        }
      ]
    },
    {
      "cell_type": "code",
      "source": [
        "## sorting numbers ##\n",
        "numbers = [4, 2, 9, 1, 5]\n",
        "sorted_numbers = sorted(numbers)\n",
        "print(\"Sorted list in ascending order:\", sorted_numbers)"
      ],
      "metadata": {
        "colab": {
          "base_uri": "https://localhost:8080/"
        },
        "id": "tyRKk9aZ325m",
        "outputId": "2317875e-5a93-4d4d-ee82-1bf2d7e5e7e1"
      },
      "execution_count": 23,
      "outputs": [
        {
          "output_type": "stream",
          "name": "stdout",
          "text": [
            "Sorted list in ascending order: [1, 2, 4, 5, 9]\n"
          ]
        }
      ]
    },
    {
      "cell_type": "markdown",
      "source": [
        "lists"
      ],
      "metadata": {
        "id": "0juEx2j077ZR"
      }
    },
    {
      "cell_type": "code",
      "source": [
        "## Creating and Accessing Lists ##\n",
        "lst = list(range(1, 21))\n",
        "print(lst)"
      ],
      "metadata": {
        "colab": {
          "base_uri": "https://localhost:8080/"
        },
        "id": "u_nOV6Or720N",
        "outputId": "7c6d3c41-9069-418f-b7c7-f7d74f857157"
      },
      "execution_count": 24,
      "outputs": [
        {
          "output_type": "stream",
          "name": "stdout",
          "text": [
            "[1, 2, 3, 4, 5, 6, 7, 8, 9, 10, 11, 12, 13, 14, 15, 16, 17, 18, 19, 20]\n"
          ]
        }
      ]
    },
    {
      "cell_type": "code",
      "source": [
        "## Accessing List Elements ##\n",
        "print(f\"First element: {lst[0]}\")\n",
        "print(f\"Middle element: {lst[len(lst) // 2]}\")\n",
        "print(f\"Last element: {lst[-1]}\")"
      ],
      "metadata": {
        "colab": {
          "base_uri": "https://localhost:8080/"
        },
        "id": "gQhxfgBt72w5",
        "outputId": "6ad29a97-6f1a-4c80-9cad-3062e8b19300"
      },
      "execution_count": 27,
      "outputs": [
        {
          "output_type": "stream",
          "name": "stdout",
          "text": [
            "First element: 1\n",
            "Middle element: 11\n",
            "Last element: 20\n"
          ]
        }
      ]
    },
    {
      "cell_type": "code",
      "source": [
        "## list slicing \"\"\n",
        "## Print the first five elements, the last five elements, and the elements from index 5 to 15 ##\n",
        "print(f\"First five elements: {lst[:5]}\")\n",
        "print(f\"Last five elements: {lst[-5:]}\")\n",
        "print(f\"Elements from index 5 to 15: {lst[5:16]}\")"
      ],
      "metadata": {
        "colab": {
          "base_uri": "https://localhost:8080/"
        },
        "id": "ZdNpMkEo72un",
        "outputId": "92c0aaa7-dfba-4358-8f07-b70c3d9f58fc"
      },
      "execution_count": 29,
      "outputs": [
        {
          "output_type": "stream",
          "name": "stdout",
          "text": [
            "First five elements: [1, 2, 3, 4, 5]\n",
            "Last five elements: [16, 17, 18, 19, 20]\n",
            "Elements from index 5 to 15: [6, 7, 8, 9, 10, 11, 12, 13, 14, 15, 16]\n"
          ]
        }
      ]
    },
    {
      "cell_type": "code",
      "source": [
        "## squares of the first 10 positive integers ##\n",
        "squares = [x**2 for x in range(1, 11)]\n",
        "print(squares)"
      ],
      "metadata": {
        "colab": {
          "base_uri": "https://localhost:8080/"
        },
        "id": "itaso4jY8njf",
        "outputId": "d6c84429-c709-4dde-da5e-3eb39902f9c3"
      },
      "execution_count": 30,
      "outputs": [
        {
          "output_type": "stream",
          "name": "stdout",
          "text": [
            "[1, 4, 9, 16, 25, 36, 49, 64, 81, 100]\n"
          ]
        }
      ]
    },
    {
      "cell_type": "code",
      "source": [
        "## The first 5 positive integers to a tuple ##\n",
        "lst = [1, 2, 3, 4, 5]\n",
        "tpl = tuple(lst)\n",
        "print(tpl)"
      ],
      "metadata": {
        "colab": {
          "base_uri": "https://localhost:8080/"
        },
        "id": "zzqluQPj72r_",
        "outputId": "b13b5042-a44c-483a-f485-ca5abd6954f7"
      },
      "execution_count": 33,
      "outputs": [
        {
          "output_type": "stream",
          "name": "stdout",
          "text": [
            "(1, 2, 3, 4, 5)\n",
            "1 2 3 4 5\n"
          ]
        }
      ]
    },
    {
      "cell_type": "code",
      "source": [
        "## 5 elements and unpack it into 5 variables ##\n",
        "tpl = (1, 2, 3, 4, 5)\n",
        "a, b, c, d, e = tpl\n",
        "print(a, b, c, d, e)"
      ],
      "metadata": {
        "colab": {
          "base_uri": "https://localhost:8080/"
        },
        "id": "fDFUwbnb72pn",
        "outputId": "668363b8-db79-456b-a965-eb7373449c47"
      },
      "execution_count": 34,
      "outputs": [
        {
          "output_type": "stream",
          "name": "stdout",
          "text": [
            "1 2 3 4 5\n"
          ]
        }
      ]
    },
    {
      "cell_type": "code",
      "source": [
        "## Createing a dictionary with tuple keys and integer values\n",
        "tpl_of_tpls = (\n",
        "    (1, 2, 3),\n",
        "    (4, 5, 6),\n",
        "    (7, 8, 9)\n",
        ")\n",
        "print(tpl_of_tpls)"
      ],
      "metadata": {
        "colab": {
          "base_uri": "https://localhost:8080/"
        },
        "id": "vJmwPxLU72nl",
        "outputId": "b2ef8841-1d12-4c76-da34-f403325b1b61"
      },
      "execution_count": 36,
      "outputs": [
        {
          "output_type": "stream",
          "name": "stdout",
          "text": [
            "((1, 2, 3), (4, 5, 6), (7, 8, 9))\n"
          ]
        }
      ]
    },
    {
      "cell_type": "code",
      "source": [
        "##  functions that take a tuple and return the minimum, maximum, and sum of the elements\n",
        "def min_in_tuple(tpl):\n",
        "    return min(tpl)\n",
        "\n",
        "def max_in_tuple(tpl):\n",
        "    return max(tpl)\n",
        "\n",
        "def sum_of_tuple(tpl):\n",
        "    return sum(tpl)\n",
        "\n",
        "sample_tpl = (1, 2, 3, 4, 5)\n",
        "print(f\"Minimum: {min_in_tuple(sample_tpl)}\")\n",
        "print(f\"Maximum: {max_in_tuple(sample_tpl)}\")\n",
        "print(f\"Sum: {sum_of_tuple(sample_tpl)}\")"
      ],
      "metadata": {
        "colab": {
          "base_uri": "https://localhost:8080/"
        },
        "id": "AKTAsPFw-_HF",
        "outputId": "d2fb86a2-c684-47f6-aee6-c977cb466c9f"
      },
      "execution_count": 37,
      "outputs": [
        {
          "output_type": "stream",
          "name": "stdout",
          "text": [
            "Minimum: 1\n",
            "Maximum: 5\n",
            "Sum: 15\n"
          ]
        }
      ]
    },
    {
      "cell_type": "markdown",
      "source": [
        "Data staructures"
      ],
      "metadata": {
        "id": "jNZfUkx7_2y8"
      }
    },
    {
      "cell_type": "code",
      "source": [
        "## Create a set with the first 10 positive integers\n",
        "s = set(range(1, 11))\n",
        "print(s)\n"
      ],
      "metadata": {
        "colab": {
          "base_uri": "https://localhost:8080/"
        },
        "id": "eqQjCthC--qj",
        "outputId": "c0d3b728-f186-4bfe-ef93-8a22a56be3d9"
      },
      "execution_count": 38,
      "outputs": [
        {
          "output_type": "stream",
          "name": "stdout",
          "text": [
            "{1, 2, 3, 4, 5, 6, 7, 8, 9, 10}\n"
          ]
        }
      ]
    },
    {
      "cell_type": "code",
      "source": [
        "## adding and removing\n",
        "r={1,2,3,4,5}\n",
        "r.add(6)\n",
        "r.remove(1)\n",
        "print(r)"
      ],
      "metadata": {
        "colab": {
          "base_uri": "https://localhost:8080/"
        },
        "id": "0chJ8-B872lI",
        "outputId": "80626fa6-318d-459f-def3-c3b3b7d150bb"
      },
      "execution_count": 40,
      "outputs": [
        {
          "output_type": "stream",
          "name": "stdout",
          "text": [
            "{2, 3, 4, 5, 6}\n"
          ]
        }
      ]
    },
    {
      "cell_type": "markdown",
      "source": [
        "##Create two sets: one with the first 5 positive integers and another with the\n",
        "first 5 even integers. Perform and print the results of union, intersection,\n",
        "difference, and symmetric difference operations on these set##"
      ],
      "metadata": {
        "id": "RSFgbsJWBbTy"
      }
    },
    {
      "cell_type": "code",
      "source": [
        "set1 = set(range(1, 6))\n",
        "set2 = set(range(2, 11, 2))\n",
        "print(f\"Union: {set1 | set2}\")\n",
        "print(f\"Intersection: {set1 & set2}\")\n",
        "print(f\"Difference (set1 - set2): {set1 - set2}\")\n",
        "print(f\"Symmetric Difference: {set1 ^ set2}\")"
      ],
      "metadata": {
        "colab": {
          "base_uri": "https://localhost:8080/"
        },
        "id": "9FUgLCpm72gf",
        "outputId": "90e7a386-3836-47cd-9c41-33c71ee9df31"
      },
      "execution_count": 42,
      "outputs": [
        {
          "output_type": "stream",
          "name": "stdout",
          "text": [
            "Union: {1, 2, 3, 4, 5, 6, 8, 10}\n",
            "Intersection: {2, 4}\n",
            "Difference (set1 - set2): {1, 3, 5}\n",
            "Symmetric Difference: {1, 3, 5, 6, 8, 10}\n"
          ]
        }
      ]
    },
    {
      "cell_type": "code",
      "source": [],
      "metadata": {
        "id": "X4Ew7Bma72eQ"
      },
      "execution_count": null,
      "outputs": []
    },
    {
      "cell_type": "code",
      "source": [],
      "metadata": {
        "id": "Fi4s8ws872cI"
      },
      "execution_count": null,
      "outputs": []
    },
    {
      "cell_type": "code",
      "source": [],
      "metadata": {
        "id": "mGuQyYnW72Zh"
      },
      "execution_count": null,
      "outputs": []
    },
    {
      "cell_type": "code",
      "source": [],
      "metadata": {
        "id": "YYd4FqBF72XI"
      },
      "execution_count": null,
      "outputs": []
    },
    {
      "cell_type": "code",
      "source": [],
      "metadata": {
        "id": "9s4mzK1-72Ur"
      },
      "execution_count": null,
      "outputs": []
    },
    {
      "cell_type": "code",
      "source": [],
      "metadata": {
        "id": "2wtvD1-w72SK"
      },
      "execution_count": null,
      "outputs": []
    },
    {
      "cell_type": "code",
      "source": [],
      "metadata": {
        "id": "OjXJQS0r72P7"
      },
      "execution_count": null,
      "outputs": []
    },
    {
      "cell_type": "code",
      "source": [],
      "metadata": {
        "id": "PSt_kM3-72NR"
      },
      "execution_count": null,
      "outputs": []
    },
    {
      "cell_type": "code",
      "source": [],
      "metadata": {
        "id": "u7Chd9RC72K2"
      },
      "execution_count": null,
      "outputs": []
    },
    {
      "cell_type": "code",
      "source": [],
      "metadata": {
        "id": "g5yOyWIF72IU"
      },
      "execution_count": null,
      "outputs": []
    },
    {
      "cell_type": "code",
      "source": [],
      "metadata": {
        "id": "bqB4bLNL72GA"
      },
      "execution_count": null,
      "outputs": []
    },
    {
      "cell_type": "code",
      "source": [],
      "metadata": {
        "id": "hRBL5uMn72DZ"
      },
      "execution_count": null,
      "outputs": []
    },
    {
      "cell_type": "code",
      "source": [],
      "metadata": {
        "id": "G8pPcC1D72BK"
      },
      "execution_count": null,
      "outputs": []
    },
    {
      "cell_type": "code",
      "source": [],
      "metadata": {
        "id": "C7oGkKek71-Q"
      },
      "execution_count": null,
      "outputs": []
    },
    {
      "cell_type": "code",
      "source": [],
      "metadata": {
        "id": "2Jxuku_37173"
      },
      "execution_count": null,
      "outputs": []
    },
    {
      "cell_type": "code",
      "source": [],
      "metadata": {
        "id": "UZcxKG75715Q"
      },
      "execution_count": null,
      "outputs": []
    },
    {
      "cell_type": "code",
      "source": [],
      "metadata": {
        "id": "FOtOSrqs712v"
      },
      "execution_count": null,
      "outputs": []
    },
    {
      "cell_type": "code",
      "source": [
        "x=int(input(\"centigrade : \"))\n",
        "print(\"Farenhiet : \",int(x*1.8)+32)\n"
      ],
      "metadata": {
        "colab": {
          "base_uri": "https://localhost:8080/"
        },
        "id": "ayeA_ld95i6y",
        "outputId": "3cfff022-6cda-4c51-83b0-f4e38888eaed"
      },
      "execution_count": null,
      "outputs": [
        {
          "output_type": "stream",
          "name": "stdout",
          "text": [
            "centigrade : 4\n",
            "Farenhiet :  39\n"
          ]
        }
      ]
    },
    {
      "cell_type": "code",
      "source": [
        "x = int(input())\n",
        "print(3.14*x*x)"
      ],
      "metadata": {
        "colab": {
          "base_uri": "https://localhost:8080/"
        },
        "id": "TuejlOPD6ypV",
        "outputId": "c78c62ca-0dd0-473a-d026-1d4ddda11037"
      },
      "execution_count": null,
      "outputs": [
        {
          "output_type": "stream",
          "name": "stdout",
          "text": [
            "6\n",
            "113.03999999999999\n"
          ]
        }
      ]
    },
    {
      "cell_type": "code",
      "source": [
        "n = int(input())\n",
        "s = 1\n",
        "for i in range(2,n//2+1):\n",
        "  if n %i==0:\n",
        "    s+=i\n",
        "if s==n:\n",
        "    print(\"yes\")\n",
        "else:\n",
        "    print(\"no\")\n"
      ],
      "metadata": {
        "colab": {
          "base_uri": "https://localhost:8080/"
        },
        "id": "taPIpHvd7fRO",
        "outputId": "9e2723af-92a4-4ef3-dd85-012323972ab6"
      },
      "execution_count": null,
      "outputs": [
        {
          "output_type": "stream",
          "name": "stdout",
          "text": [
            "15\n",
            "no\n"
          ]
        }
      ]
    },
    {
      "cell_type": "code",
      "source": [
        "x=input().split(\" \")\n",
        "x.sort()\n",
        "print(x[-2])"
      ],
      "metadata": {
        "colab": {
          "base_uri": "https://localhost:8080/"
        },
        "id": "XfJKQEAS9BPW",
        "outputId": "b0d55798-6b54-4c75-992c-10687332f33e"
      },
      "execution_count": null,
      "outputs": [
        {
          "output_type": "stream",
          "name": "stdout",
          "text": [
            "12 34 10\n",
            "12\n"
          ]
        }
      ]
    },
    {
      "cell_type": "code",
      "source": [
        "n=int(input())\n",
        "l=[i for i in range(1,n//2+1) if  n%i==0]\n",
        "print(sum(l)==n)"
      ],
      "metadata": {
        "colab": {
          "base_uri": "https://localhost:8080/"
        },
        "id": "4YxDOuUy_1Z7",
        "outputId": "c2bc66d1-3f30-46c0-8ae9-781e0f257d58"
      },
      "execution_count": null,
      "outputs": [
        {
          "output_type": "stream",
          "name": "stdout",
          "text": [
            "6\n",
            "True\n"
          ]
        }
      ]
    },
    {
      "cell_type": "code",
      "source": [
        "a,b,c = map(int,input().split())\n",
        "print((sum((a,b,c)))-min(a,b,c)-max(a,b,c))"
      ],
      "metadata": {
        "colab": {
          "base_uri": "https://localhost:8080/"
        },
        "id": "h3O5KYZ1DAeB",
        "outputId": "a2419285-2e75-417b-db63-3da41a242b2d"
      },
      "execution_count": null,
      "outputs": [
        {
          "output_type": "stream",
          "name": "stdout",
          "text": [
            "14 45 94\n",
            "45\n"
          ]
        }
      ]
    },
    {
      "cell_type": "code",
      "source": [
        "x = [int(x) for x in input(\"Enter the numbers : \").split()]\n",
        "x.sort()\n",
        "print(f\"Second greatest number is : {x[-2]}\")\n",
        "\n"
      ],
      "metadata": {
        "colab": {
          "base_uri": "https://localhost:8080/"
        },
        "id": "0wjieidrFKHw",
        "outputId": "e7eb671d-bad3-46cc-88d2-d876a5a5d000"
      },
      "execution_count": null,
      "outputs": [
        {
          "output_type": "stream",
          "name": "stdout",
          "text": [
            "Enter the numbers : 14 8 54\n",
            "Second greatest number is : 14\n"
          ]
        }
      ]
    },
    {
      "cell_type": "code",
      "source": [
        "'''give number neon number or not '''\n",
        "def neon(n):\n",
        "  if sum (list (map(int,str(n*n))))==n:\n",
        "    return \"Neon\"\n",
        "  else:\n",
        "    return \"Not a Neon\"\n",
        "print(neon(int(input())))"
      ],
      "metadata": {
        "colab": {
          "base_uri": "https://localhost:8080/"
        },
        "id": "xbgZc2I2GmIq",
        "outputId": "d63bfd84-fa91-4028-e497-8461d31816eb"
      },
      "execution_count": null,
      "outputs": [
        {
          "output_type": "stream",
          "name": "stdout",
          "text": [
            "58\n",
            "Not a Neon\n"
          ]
        }
      ]
    },
    {
      "cell_type": "code",
      "source": [
        "def is_au(n):\n",
        "  if str(n*n)[-len(str(n)):]==str(n):\n",
        "    return \"au\"\n",
        "  return \"Not au\"\n",
        "print(is_au(int(input())))"
      ],
      "metadata": {
        "colab": {
          "base_uri": "https://localhost:8080/"
        },
        "id": "VKcsV_6AHX2x",
        "outputId": "435db9e2-c03e-4c3a-f0bb-53ffb2d64321"
      },
      "execution_count": null,
      "outputs": [
        {
          "output_type": "stream",
          "name": "stdout",
          "text": [
            "5\n",
            "au\n"
          ]
        }
      ]
    },
    {
      "cell_type": "code",
      "source": [
        "def isPronic(n):\n",
        "  flag=False\n",
        "  for i in range(1,n+1):\n",
        "    if i*(i+1)==n:\n",
        "      f=\"Pronic\"\n",
        "      break\n",
        "  return f\n",
        "print(isPronic(int (input())))\n"
      ],
      "metadata": {
        "colab": {
          "base_uri": "https://localhost:8080/"
        },
        "id": "UDQ0RAI9lpgM",
        "outputId": "5412aea5-f34d-4285-807b-e5b33481c60c"
      },
      "execution_count": null,
      "outputs": [
        {
          "output_type": "stream",
          "name": "stdout",
          "text": [
            "6\n",
            "Pronic\n"
          ]
        }
      ]
    }
  ],
  "metadata": {
    "colab": {
      "provenance": []
    },
    "kernelspec": {
      "display_name": "Python 3",
      "name": "python3"
    },
    "language_info": {
      "name": "python"
    }
  },
  "nbformat": 4,
  "nbformat_minor": 0
}